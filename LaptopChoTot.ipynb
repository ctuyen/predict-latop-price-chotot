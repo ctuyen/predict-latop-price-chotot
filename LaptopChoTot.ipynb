{
  "nbformat": 4,
  "nbformat_minor": 0,
  "metadata": {
    "kernelspec": {
      "display_name": "Python 3",
      "language": "python",
      "name": "python3"
    },
    "language_info": {
      "codemirror_mode": {
        "name": "ipython",
        "version": 3
      },
      "file_extension": ".py",
      "mimetype": "text/x-python",
      "name": "python",
      "nbconvert_exporter": "python",
      "pygments_lexer": "ipython3",
      "version": "3.7.6"
    },
    "colab": {
      "name": "LaptopChoTot.ipynb",
      "provenance": [],
      "collapsed_sections": [],
      "toc_visible": true
    }
  },
  "cells": [
    {
      "cell_type": "markdown",
      "metadata": {
        "id": "l3QwsDZ6Vn_J"
      },
      "source": [
        "# <p style='text-align: center;'>ĐỒ ÁN CUỐI KÌ: KHOA HỌC DỮ LIỆU VÀ ỨNG DỤNG</p>\n",
        "\n",
        "<p style='text-align: right;'> <em>Họ tên: Nguyễn Huỳnh Xuân Mai - Lê Công Tuyền </p>\n",
        "\n",
        "<p style='text-align: right;'> MSSV: 1712091 - 1612793</em></p>"
      ]
    },
    {
      "cell_type": "markdown",
      "metadata": {
        "id": "DJH9Bnv3Vn_Y"
      },
      "source": [
        "# 1. GIỚI THIỆU VỀ TRANG WEB CHỢ TỐT\n",
        "<img src=\"https://i0.wp.com/s1.uphinh.org/2020/12/22/logo-cho-tot.jpg\" alt=\"Parrondo\" border=\"0\" width=\"300\"/> \n",
        "- Mục tiêu của Chợ Tốt là sẽ trở thành thị trường mua bán trực tuyến hàng đầu Việt Nam. Mục đích của Chợ Tốt là cho phép người mua và người bán kết nối và giao dịch an toàn, dễ dàng trong một môi trường tiện lợi và rõ ràng.\n",
        "- Tất cả các hạng mục đều có trên trang web, cho dù nó là dành cho mua, bán, tìm kiếm nhà cửa, xe ô tô, tuyển dụng, đồ điện tử đã qua sử dụng, vật nuôi, và cả dịch vụ gia đình. Mục đích của trang web là cung cấp cho người Việt Nam một nền tảng trực tuyến để sử dụng một cách đơn giản, tiện lợi, không rắc rối phức tạp. Không cần phải đăng ký và ai cũng có thể tìm kiếm và đăng các thông tin liên quan về các danh mục sản phẩm cần bán khác nhau, từ bất động sản, đồ điện tử đến xe ô tô và còn nhiều hơn nữa.\n",
        "<img src=\"https://i0.wp.com/s1.uphinh.org/2020/12/22/trang-chu-cho-tot.png\" alt=\"Parrondo\" border=\"0\"> \n",
        "- Mỗi người trong số chúng ta đều có những sản phẩm có thể bán được. Bên cạnh việc giữ sản phẩm không cần đến ở nhà, bất kỳ ai cũng có thể kiếm thêm tiền bằng cách bán nó cho người khác thông qua thị trường mua bán trực tuyến này.\n",
        "- Sản phẩm mà bạn không cần đến vẫn có thể trở thành vật quý giá với người khác. Cho nên nếu có những món hàng cần bán lại thì hãy đăng thông tin và tình trạng lên Chợ Tốt.\n",
        "- [Source](https://trogiup.chotot.com/nguoi-ban/gioi-thieu-chotot-com/)"
      ]
    },
    {
      "cell_type": "markdown",
      "metadata": {
        "id": "vyrUdC2sVn_Z"
      },
      "source": [
        "# 2. LẤY DỮ LIỆU\n",
        "<img src=\"https://i0.wp.com/s1.uphinh.org/2020/12/23/laptop.jpg\" alt=\"Parrondo\" border=\"0\"> \n",
        "- Dữ liệu được lấy trong bài tập này là thông tin về các laptop được đăng bán; và trang web gốc của dữ liệu được lấy là [Chợ tốt](https://www.chotot.com/toan-quoc/mua-ban-laptop).\n",
        "- Về việc trang web có cho phép lấy dữ liệu về để phục vụ mục đích nghiên cứu, trong [Quy chế hoạt động sàn giao dịch thương mại điện tử trên website Chợ Tốt](https://trogiup.chotot.com/nguoi-ban/hoat-dong/) chỉ không cho phép lấy thông tin cá nhân của người đăng (tên, SĐT, email). Còn những thông tin về sản phẩm thì Quy chế không nhắc đến nhưng việc lấy dữ liệu sản phẩm phục vụ cho mục đích môn học và không có bất kì hành động trái phép nào nên nhóm em nghĩ sẽ không có vấn đề gì.\n",
        "- Cách lấy dữ liệu:\n",
        "    - *Bước 1*: Trước hết, cần phải Import tất cả những thư viện phục vụ cho bài làm. Để thuận tiện trong việc parse data, nhóm em sử dụng thư viện `BeautifulSoup` và `request HTMLSession`.\n",
        "    - *Bước 2*: Crawl link data\n",
        "    - *Bước 3*: Get data của từng trường dữ liệu"
      ]
    },
    {
      "cell_type": "markdown",
      "metadata": {
        "id": "6JJkHoi7Vn_a"
      },
      "source": [
        "## 2.1. *BƯỚC 1:* IMPORT THƯ VIỆN"
      ]
    },
    {
      "cell_type": "code",
      "metadata": {
        "id": "BPe8xGatVn_a"
      },
      "source": [
        "# Importing libraries\n",
        "!pip install requests_html\n",
        "!pip install selenium\n",
        "from requests_html import HTMLSession\n",
        "import requests\n",
        "from requests_html import HTML\n",
        "import time # Dùng để sleep chương trình\n",
        "from selenium.webdriver.support import expected_conditions\n",
        "from selenium.webdriver.common.by import By\n",
        "from selenium.webdriver.support.ui import WebDriverWait\n",
        "from selenium.webdriver.common.keys import Keys\n",
        "import bs4\n",
        "from bs4 import BeautifulSoup\n",
        "import numpy as np\n",
        "import matplotlib.pyplot as plt\n",
        "import seaborn as sns\n",
        "import pandas as pd # Dùng để đọc và hiển thị file csv \n",
        "import datetime as dt # Dùng để xử lý dữ liệu thời gian\n",
        "import re\n",
        "import numpy as np\n",
        "import seaborn as sns"
      ],
      "execution_count": null,
      "outputs": []
    },
    {
      "cell_type": "markdown",
      "metadata": {
        "id": "LywhdxXVVn_b"
      },
      "source": [
        "## 2.2. *BƯỚC 2:* CRAWL LINK DATA\n",
        "- Khởi tạo `baseURL` để lấy đầu nguồn URL gán vào những page link khi parse được.\n",
        "- Ở đây, nhóm em quét qua 500 trang đầu được trang web đánh số từ [1-500] và mục đích là để lấy tất cả những đường link các laptop có trong mỗi trang quét qua.\n",
        "<img src=\"https://i0.wp.com/s1.uphinh.org/2020/12/22/b2.png\" alt=\"Parrondo\" border=\"0\"> \n",
        "- Sau đó, link các laptop được lấy bằng cách `baseURL` + `[href]` của mỗi link."
      ]
    },
    {
      "cell_type": "code",
      "metadata": {
        "id": "GRaWztesVn_b"
      },
      "source": [
        "#Base URL\n",
        "baseURL = 'https://www.chotot.com'\n",
        "links=[]\n",
        "session = HTMLSession()\n",
        "\n",
        "for i in range(1,501):\n",
        "    url=f'https://www.chotot.com/toan-quoc/mua-ban-laptop?page={i}'\n",
        "    r = session.get(url)\n",
        "    soup=BeautifulSoup(r.text,'html.parser')\n",
        "    link_element=soup.find_all(\"a\",class_=\"adItem___2GCVQ\")\n",
        "    for a in link_element:\n",
        "        links.append(baseURL + a[\"href\"])"
      ],
      "execution_count": null,
      "outputs": []
    },
    {
      "cell_type": "markdown",
      "metadata": {
        "id": "pOlvYwyqVn_c"
      },
      "source": [
        "- Lưu tất cả những links sản phẩm vào `list`, trong đó `set` dùng để tránh lặp những link trùng nhau"
      ]
    },
    {
      "cell_type": "code",
      "metadata": {
        "scrolled": true,
        "colab": {
          "base_uri": "https://localhost:8080/"
        },
        "id": "P8mmKEYVVn_d",
        "outputId": "a6c41a02-562b-4591-ce71-8351445f07cc"
      },
      "source": [
        "list_link = list(set(links))\n",
        "#list_link.remove('')\n",
        "list_link"
      ],
      "execution_count": 63,
      "outputs": [
        {
          "output_type": "execute_result",
          "data": {
            "text/plain": [
              "['https://www.chotot.com/thua-thien-hue/thanh-pho-hue/mua-ban/81267002.htm',\n",
              " 'https://www.chotot.com/ha-noi/quan-dong-da/mua-ban/81266886.htm',\n",
              " 'https://www.chotot.com/ha-noi/quan-cau-giay/mua-ban/46507471.htm',\n",
              " 'https://www.chotot.com/tp-ho-chi-minh/quan-phu-nhuan/mua-ban/81267112.htm',\n",
              " 'https://www.chotot.com/tp-ho-chi-minh/quan-phu-nhuan/mua-ban/81267258.htm',\n",
              " 'https://www.chotot.com/tp-ho-chi-minh/quan-binh-thanh/mua-ban/81016945.htm',\n",
              " 'https://www.chotot.com/thua-thien-hue/thanh-pho-hue/mua-ban/81267001.htm',\n",
              " 'https://www.chotot.com/tp-ho-chi-minh/quan-1/mua-ban/73527594.htm',\n",
              " 'https://www.chotot.com/tp-ho-chi-minh/quan-go-vap/mua-ban/80849169.htm',\n",
              " 'https://www.chotot.com/tp-ho-chi-minh/quan-go-vap/mua-ban/81266774.htm',\n",
              " 'https://www.chotot.com/thua-thien-hue/thanh-pho-hue/mua-ban/81267000.htm',\n",
              " 'https://www.chotot.com/tp-ho-chi-minh/quan-tan-phu/mua-ban/79701900.htm#px=SR-stickyad-[PO-2][PL-top]',\n",
              " 'https://www.chotot.com/tp-ho-chi-minh/quan-binh-tan/mua-ban/81266773.htm',\n",
              " 'https://www.chotot.com/tp-ho-chi-minh/quan-tan-phu/mua-ban/81183049.htm#px=SR-stickyad-[PO-3][PL-top]',\n",
              " 'https://www.chotot.com/tp-ho-chi-minh/quan-tan-binh/mua-ban/81267094.htm#px=SR-stickyad-[PO-3][PL-top]',\n",
              " 'https://www.chotot.com/ba-ria-vung-tau/thanh-pho-vung-tau/mua-ban/81266062.htm',\n",
              " 'https://www.chotot.com/ha-noi/quan-dong-da/mua-ban/79976456.htm',\n",
              " 'https://www.chotot.com/tp-ho-chi-minh/quan-5/mua-ban/81266469.htm',\n",
              " 'https://www.chotot.com/tp-ho-chi-minh/huyen-binh-chanh/mua-ban/81267601.htm',\n",
              " 'https://www.chotot.com/tp-ho-chi-minh/quan-binh-thanh/mua-ban/80466263.htm',\n",
              " 'https://www.chotot.com/tp-ho-chi-minh/quan-go-vap/mua-ban/81267416.htm',\n",
              " 'https://www.chotot.com/tp-ho-chi-minh/quan-tan-phu/mua-ban/81265882.htm',\n",
              " 'https://www.chotot.com/tp-ho-chi-minh/quan-binh-thanh/mua-ban/81161732.htm',\n",
              " 'https://www.chotot.com/tp-ho-chi-minh/quan-thu-duc/mua-ban/81264609.htm#px=SR-stickyad-[PO-5][PL-top]',\n",
              " 'https://www.chotot.com/tp-ho-chi-minh/quan-8/mua-ban/80700696.htm',\n",
              " 'https://www.chotot.com/tp-ho-chi-minh/quan-tan-phu/mua-ban/81266359.htm',\n",
              " 'https://www.chotot.com/binh-duong/thi-xa-di-an/mua-ban/81080228.htm',\n",
              " 'https://www.chotot.com/dong-nai/thanh-pho-bien-hoa/mua-ban/80604594.htm',\n",
              " 'https://www.chotot.com/tp-ho-chi-minh/quan-go-vap/mua-ban/81266804.htm',\n",
              " 'https://www.chotot.com/tp-ho-chi-minh/quan-tan-binh/mua-ban/81265857.htm',\n",
              " 'https://www.chotot.com/tp-ho-chi-minh/quan-go-vap/mua-ban/81267642.htm',\n",
              " 'https://www.chotot.com/ha-noi/quan-hoang-mai/mua-ban/81266269.htm',\n",
              " 'https://www.chotot.com/tp-ho-chi-minh/quan-go-vap/mua-ban/77088988.htm',\n",
              " 'https://www.chotot.com/tp-ho-chi-minh/quan-thu-duc/mua-ban/81267035.htm',\n",
              " 'https://www.chotot.com/hai-duong/thanh-pho-hai-duong/mua-ban/81266857.htm',\n",
              " 'https://www.chotot.com/tp-ho-chi-minh/quan-10/mua-ban/81266695.htm',\n",
              " 'https://www.chotot.com/tp-ho-chi-minh/quan-thu-duc/mua-ban/80461669.htm#px=SR-stickyad-[PO-4][PL-top]',\n",
              " 'https://www.chotot.com/tp-ho-chi-minh/quan-tan-binh/mua-ban/81267094.htm',\n",
              " 'https://www.chotot.com/tp-ho-chi-minh/quan-tan-binh/mua-ban/80511806.htm',\n",
              " 'https://www.chotot.com/tp-ho-chi-minh/quan-phu-nhuan/mua-ban/81266934.htm',\n",
              " 'https://www.chotot.com/tp-ho-chi-minh/quan-go-vap/mua-ban/78066691.htm',\n",
              " 'https://www.chotot.com/ha-noi/quan-thanh-xuan/mua-ban/81266158.htm',\n",
              " 'https://www.chotot.com/tp-ho-chi-minh/quan-binh-thanh/mua-ban/81267795.htm',\n",
              " 'https://www.chotot.com/can-tho/quan-o-mon/mua-ban/81266666.htm',\n",
              " 'https://www.chotot.com/dak-lak/thanh-pho-buon-ma-thuot/mua-ban/81266183.htm',\n",
              " 'https://www.chotot.com/tp-ho-chi-minh/quan-tan-binh/mua-ban/77824067.htm#px=SR-stickyad-[PO-1][PL-top]',\n",
              " 'https://www.chotot.com/tp-ho-chi-minh/quan-phu-nhuan/mua-ban/81265931.htm',\n",
              " 'https://www.chotot.com/tp-ho-chi-minh/quan-tan-phu/mua-ban/81186639.htm#px=SR-stickyad-[PO-1][PL-top]',\n",
              " 'https://www.chotot.com/thua-thien-hue/thanh-pho-hue/mua-ban/81267285.htm',\n",
              " 'https://www.chotot.com/ha-noi/quan-hai-ba-trung/mua-ban/81267077.htm',\n",
              " 'https://www.chotot.com/tp-ho-chi-minh/quan-12/mua-ban/81266471.htm',\n",
              " 'https://www.chotot.com/tp-ho-chi-minh/quan-go-vap/mua-ban/81267289.htm',\n",
              " 'https://www.chotot.com/tp-ho-chi-minh/quan-tan-binh/mua-ban/80043517.htm#px=SR-stickyad-[PO-4][PL-top]',\n",
              " 'https://www.chotot.com/tp-ho-chi-minh/quan-tan-phu/mua-ban/81266591.htm',\n",
              " 'https://www.chotot.com/tp-ho-chi-minh/quan-go-vap/mua-ban/81266526.htm',\n",
              " 'https://www.chotot.com/tp-ho-chi-minh/quan-tan-binh/mua-ban/79797431.htm',\n",
              " 'https://www.chotot.com/ha-noi/quan-cau-giay/mua-ban/40827925.htm',\n",
              " 'https://www.chotot.com/tp-ho-chi-minh/quan-go-vap/mua-ban/81266699.htm',\n",
              " 'https://www.chotot.com/tp-ho-chi-minh/quan-tan-phu/mua-ban/81266607.htm',\n",
              " 'https://www.chotot.com/tp-ho-chi-minh/quan-tan-binh/mua-ban/81267275.htm',\n",
              " 'https://www.chotot.com/da-nang/quan-cam-le/mua-ban/81267477.htm',\n",
              " 'https://www.chotot.com/ha-noi/huyen-me-linh/mua-ban/81265920.htm',\n",
              " 'https://www.chotot.com/tp-ho-chi-minh/quan-8/mua-ban/80701525.htm',\n",
              " 'https://www.chotot.com/thua-thien-hue/thanh-pho-hue/mua-ban/81267003.htm',\n",
              " 'https://www.chotot.com/ha-noi/quan-hoan-kiem/mua-ban/81266160.htm',\n",
              " 'https://www.chotot.com/gia-lai/thanh-pho-pleiku/mua-ban/81267206.htm',\n",
              " 'https://www.chotot.com/lam-dong/thanh-pho-da-lat/mua-ban/81267280.htm',\n",
              " 'https://www.chotot.com/tp-ho-chi-minh/quan-7/mua-ban/79496223.htm',\n",
              " 'https://www.chotot.com/tp-ho-chi-minh/quan-10/mua-ban/75592209.htm',\n",
              " 'https://www.chotot.com/tp-ho-chi-minh/quan-tan-phu/mua-ban/81266356.htm',\n",
              " 'https://www.chotot.com/tp-ho-chi-minh/quan-go-vap/mua-ban/81266186.htm',\n",
              " 'https://www.chotot.com/tp-ho-chi-minh/quan-tan-phu/mua-ban/81266508.htm',\n",
              " 'https://www.chotot.com/da-nang/quan-hai-chau/mua-ban/81267184.htm',\n",
              " 'https://www.chotot.com/ha-noi/quan-thanh-xuan/mua-ban/81267476.htm',\n",
              " 'https://www.chotot.com/tp-ho-chi-minh/quan-tan-phu/mua-ban/81266030.htm',\n",
              " 'https://www.chotot.com/ha-noi/quan-ha-dong/mua-ban/81267154.htm',\n",
              " 'https://www.chotot.com/tp-ho-chi-minh/quan-3/mua-ban/81266276.htm',\n",
              " 'https://www.chotot.com/tp-ho-chi-minh/quan-tan-binh/mua-ban/81266724.htm',\n",
              " 'https://www.chotot.com/tp-ho-chi-minh/quan-tan-phu/mua-ban/81266234.htm',\n",
              " 'https://www.chotot.com/tp-ho-chi-minh/quan-go-vap/mua-ban/81266092.htm',\n",
              " 'https://www.chotot.com/tp-ho-chi-minh/quan-binh-thanh/mua-ban/81266480.htm',\n",
              " 'https://www.chotot.com/tp-ho-chi-minh/quan-tan-phu/mua-ban/81158135.htm#px=SR-stickyad-[PO-5][PL-top]',\n",
              " 'https://www.chotot.com/tp-ho-chi-minh/quan-tan-binh/mua-ban/81267822.htm',\n",
              " 'https://www.chotot.com/tp-ho-chi-minh/quan-10/mua-ban/81267076.htm',\n",
              " 'https://www.chotot.com/tp-ho-chi-minh/quan-go-vap/mua-ban/80899457.htm',\n",
              " 'https://www.chotot.com/tp-ho-chi-minh/quan-2/mua-ban/80779812.htm',\n",
              " 'https://www.chotot.com/tp-ho-chi-minh/quan-go-vap/mua-ban/81267614.htm',\n",
              " 'https://www.chotot.com/tp-ho-chi-minh/quan-phu-nhuan/mua-ban/76147923.htm',\n",
              " 'https://www.chotot.com/tp-ho-chi-minh/quan-tan-binh/mua-ban/81193803.htm#px=SR-stickyad-[PO-2][PL-top]',\n",
              " 'https://www.chotot.com/tp-ho-chi-minh/quan-binh-tan/mua-ban/81266082.htm']"
            ]
          },
          "metadata": {
            "tags": []
          },
          "execution_count": 63
        }
      ]
    },
    {
      "cell_type": "markdown",
      "metadata": {
        "id": "KZYwLK9vVn_d"
      },
      "source": [
        "- Ngoài ra, nên lưu danh sách links đã lấy được vào file .csv"
      ]
    },
    {
      "cell_type": "code",
      "metadata": {
        "id": "dF17aR_sVn_d"
      },
      "source": [
        "links_dict = {\"List Links\":links}\n",
        "link_frame = pd.DataFrame(links_dict)\n",
        "link_frame.to_csv(\"ListLinks.csv\", index=False, header = False)"
      ],
      "execution_count": 64,
      "outputs": []
    },
    {
      "cell_type": "code",
      "metadata": {
        "colab": {
          "base_uri": "https://localhost:8080/",
          "height": 419
        },
        "id": "1wLhIXoNVn_e",
        "outputId": "f52edb6f-44f9-49ad-a1be-39b349d3630e"
      },
      "source": [
        "link_frame"
      ],
      "execution_count": 65,
      "outputs": [
        {
          "output_type": "execute_result",
          "data": {
            "text/html": [
              "<div>\n",
              "<style scoped>\n",
              "    .dataframe tbody tr th:only-of-type {\n",
              "        vertical-align: middle;\n",
              "    }\n",
              "\n",
              "    .dataframe tbody tr th {\n",
              "        vertical-align: top;\n",
              "    }\n",
              "\n",
              "    .dataframe thead th {\n",
              "        text-align: right;\n",
              "    }\n",
              "</style>\n",
              "<table border=\"1\" class=\"dataframe\">\n",
              "  <thead>\n",
              "    <tr style=\"text-align: right;\">\n",
              "      <th></th>\n",
              "      <th>List Links</th>\n",
              "    </tr>\n",
              "  </thead>\n",
              "  <tbody>\n",
              "    <tr>\n",
              "      <th>0</th>\n",
              "      <td>https://www.chotot.com/tp-ho-chi-minh/quan-tan...</td>\n",
              "    </tr>\n",
              "    <tr>\n",
              "      <th>1</th>\n",
              "      <td>https://www.chotot.com/tp-ho-chi-minh/quan-tan...</td>\n",
              "    </tr>\n",
              "    <tr>\n",
              "      <th>2</th>\n",
              "      <td>https://www.chotot.com/tp-ho-chi-minh/quan-tan...</td>\n",
              "    </tr>\n",
              "    <tr>\n",
              "      <th>3</th>\n",
              "      <td>https://www.chotot.com/tp-ho-chi-minh/quan-tan...</td>\n",
              "    </tr>\n",
              "    <tr>\n",
              "      <th>4</th>\n",
              "      <td>https://www.chotot.com/tp-ho-chi-minh/quan-tan...</td>\n",
              "    </tr>\n",
              "    <tr>\n",
              "      <th>...</th>\n",
              "      <td>...</td>\n",
              "    </tr>\n",
              "    <tr>\n",
              "      <th>85</th>\n",
              "      <td>https://www.chotot.com/tp-ho-chi-minh/quan-go-...</td>\n",
              "    </tr>\n",
              "    <tr>\n",
              "      <th>86</th>\n",
              "      <td>https://www.chotot.com/tp-ho-chi-minh/quan-phu...</td>\n",
              "    </tr>\n",
              "    <tr>\n",
              "      <th>87</th>\n",
              "      <td>https://www.chotot.com/ha-noi/huyen-me-linh/mu...</td>\n",
              "    </tr>\n",
              "    <tr>\n",
              "      <th>88</th>\n",
              "      <td>https://www.chotot.com/tp-ho-chi-minh/quan-tan...</td>\n",
              "    </tr>\n",
              "    <tr>\n",
              "      <th>89</th>\n",
              "      <td>https://www.chotot.com/tp-ho-chi-minh/quan-tan...</td>\n",
              "    </tr>\n",
              "  </tbody>\n",
              "</table>\n",
              "<p>90 rows × 1 columns</p>\n",
              "</div>"
            ],
            "text/plain": [
              "                                           List Links\n",
              "0   https://www.chotot.com/tp-ho-chi-minh/quan-tan...\n",
              "1   https://www.chotot.com/tp-ho-chi-minh/quan-tan...\n",
              "2   https://www.chotot.com/tp-ho-chi-minh/quan-tan...\n",
              "3   https://www.chotot.com/tp-ho-chi-minh/quan-tan...\n",
              "4   https://www.chotot.com/tp-ho-chi-minh/quan-tan...\n",
              "..                                                ...\n",
              "85  https://www.chotot.com/tp-ho-chi-minh/quan-go-...\n",
              "86  https://www.chotot.com/tp-ho-chi-minh/quan-phu...\n",
              "87  https://www.chotot.com/ha-noi/huyen-me-linh/mu...\n",
              "88  https://www.chotot.com/tp-ho-chi-minh/quan-tan...\n",
              "89  https://www.chotot.com/tp-ho-chi-minh/quan-tan...\n",
              "\n",
              "[90 rows x 1 columns]"
            ]
          },
          "metadata": {
            "tags": []
          },
          "execution_count": 65
        }
      ]
    },
    {
      "cell_type": "code",
      "metadata": {
        "scrolled": true,
        "id": "CwvfZ2N4Vn_e"
      },
      "source": [
        "# List Link laptop\n",
        "list_link"
      ],
      "execution_count": null,
      "outputs": []
    },
    {
      "cell_type": "markdown",
      "metadata": {
        "id": "ZEwSa_i_Vn_e"
      },
      "source": [
        "- Tạo Dataframe `raw_data_with_no_price` bao gồm các trường dữ liệu sau:\n",
        "\n",
        "| Brand | Model | Status | Screen Size | Processor Type | RAM Size | Graphic Card | Hard Drive | Warranty Status | Delivery |\n",
        "| --- | --- | --- | --- | --- | --- | --- | --- | --- | --- |\n",
        "|  |  |  |  |  |  |  |  |  |  |\n",
        "\n",
        "- Trong đó: \n",
        "    - `Brand`: Hãng laptop\n",
        "    - `Model`: Dòng laptop\n",
        "    - `Status`: Tình trạng laptop (mới/đã sử dụng rồi/không có nêu trong link)\n",
        "    - `Screen size`: Kích thước màn hình\n",
        "    - `Processor Type`: Hãng chip\n",
        "    - `RAM Size`: Dung lượng RAM\n",
        "    - `Graphic Card`: Card màn hình\n",
        "    - `Hard Drive`: Ổ cứng\n",
        "    - `Warranty Status`: Tình trạng bảo hành (còn bảo hành/không còn bảo hành/không có nêu trong link)\n",
        "    - `Delivery`: Tình trạng giao hàng (có giao hàng/không giao hàng/không có nêu trong link)"
      ]
    },
    {
      "cell_type": "code",
      "metadata": {
        "id": "eMdgqjKzVn_e"
      },
      "source": [
        "brand = []\n",
        "model = []\n",
        "status = []\n",
        "screen_size = []\n",
        "processor_type = []\n",
        "ram = []\n",
        "graphic_card = []\n",
        "hard_drive = []\n",
        "warranty_status = []\n",
        "price = []\n",
        "delivery = []\n",
        "props = {}\n",
        "\n",
        "raw_data_with_no_price = pd.DataFrame(columns = [\"Brand\",\n",
        "                                   \"Model\",\n",
        "                                   \"Status\",\n",
        "                                   \"Screen Size\",\n",
        "                                   \"Processor Type\",\n",
        "                                   \"RAM Size\",\n",
        "                                   \"Graphic Card\",\n",
        "                                   \"Hard Drive\",\n",
        "                                   \"Warranty Status\",\n",
        "                                   \"Delivery\"\n",
        "                                   ])"
      ],
      "execution_count": 67,
      "outputs": []
    },
    {
      "cell_type": "markdown",
      "metadata": {
        "id": "3vHpNHunVn_g"
      },
      "source": [
        "- Cho vòng lặp đi qua mỗi link có trong `list_link`:\n",
        "    - `get` từng link một.\n",
        "    - Định nghĩa `soup` chính là parse html.\n",
        "    - Vì do tất cả các trường dữ liệu (trừ `price`) đều nằm trong thẻ `div` có `class` là <font color=red>col-md-6 no-padding adParamItem___MUGYh</font> nên ý tưởng ở đây là cho `soup` tìm tất cả các `class` có tên là 'col-md-6 no-padding adParamItem___MUGYh' và lưu vào biến `mydivs`\n",
        "<img src=\"https://i0.wp.com/s1.uphinh.org/2020/12/23/get-data-1.png\" alt=\"Parrondo\" border=\"0\"> \n",
        "        - Trong mỗi `div` `class` đó, tìm giá trị và text của trường dữ liệu nằm trong `span` có `class` là <font color=red>media-body media-middle</font>.\n",
        "<img src=\"https://i0.wp.com/s1.uphinh.org/2020/12/22/get-data-2.png\" alt=\"Parrondo\" border=\"0\"> \n",
        "        - Trở ngại duy nhất là kết quả việc tìm trên sẽ trả về cả chuỗi (vd: \"Hãng: Dell\") nên ý tưởng là sẽ `split` text đó ra bằng \": \". Sau khi split, (vd: \"Hãng\", \"Dell\") nhóm em lưu `title = text[0]` và `value = text[1]`, \n",
        "        - Ngoài ra, định nghĩa phương thức `props[title] = value` để từ đó thuận tiện cho việc tra cứu cũng như trích xuất dữ liệu rằng liệu value đó có nằm trong title đang kiếm hay không.\n",
        "    - Sử dụng phương thức `props[title] = value` để lấy các trường dữ liệu, trong đó `title` nhóm em sẽ truy xuất dạng string.\n",
        "        - Nếu chuỗi tìm kiếm có dữ liệu khi lấy về, `append` vào mảng.\n",
        "        - Nếu không, `append` NaN.\n",
        "- Sau khi lấy được giá trị tất cả các trường trong mỗi link, lưu tất cả các giá trị lấy được vào DataFrame `raw_data_with_no_price` đã tạo ở trên."
      ]
    },
    {
      "cell_type": "markdown",
      "metadata": {
        "id": "Bthredd6Vn_g"
      },
      "source": [
        "## 2.3. *THU THẬP TỪNG TRƯỜNG DỮ LIỆU* \n",
        "\n",
        "Ở đây, em thu thập dữ liệu `Price` riêng, sau đó, concat 2 Dataframe lại với nhau thành dữ liệu tổng."
      ]
    },
    {
      "cell_type": "code",
      "metadata": {
        "colab": {
          "base_uri": "https://localhost:8080/",
          "height": 606
        },
        "id": "A9f6KcpoVn_g",
        "outputId": "3bfa2b99-77b4-49c1-ad80-d0a15fbc1b66"
      },
      "source": [
        "for per_link in list_link:\n",
        "    try:\n",
        "        req=requests.get(per_link)\n",
        "        soup=BeautifulSoup(req.text,'html.parser')\n",
        "        mydivs = soup.findAll(\"div\", {\"class\": \"col-md-6 no-padding adParamItem___MUGYh\"})\n",
        "        for i in mydivs:\n",
        "            i.find('span', {'class': 'media-body media-middle'})\n",
        "            #print(type(a))\n",
        "            a = i.text.split(': ')\n",
        "            title = a[0]\n",
        "            value = a[1]\n",
        "            props[title] = value\n",
        "            #print(title)\n",
        "            #print(value)\n",
        "\n",
        "        # Brand    \n",
        "        if('Hãng' in props):\n",
        "            brand.append(props['Hãng'])\n",
        "        else:\n",
        "            brand.append(np.nan)\n",
        "    \n",
        "        # Model\n",
        "        if('Dòng máy' in props):\n",
        "            model.append(props['Dòng máy'])\n",
        "        else:\n",
        "            model.append(np.nan)   \n",
        "            \n",
        "        if('Tình trạng' in props):\n",
        "            status.append(props['Tình trạng'])\n",
        "        else:\n",
        "            status.append(np.nan)\n",
        "            \n",
        "        if('Kích cỡ màn hình' in props):\n",
        "            screen_size.append(props['Kích cỡ màn hình'])\n",
        "        else:\n",
        "            screen_size.append(np.nan)\n",
        "            \n",
        "        if('Bộ vi xử lý' in props):\n",
        "            processor_type.append(props['Bộ vi xử lý'])\n",
        "        else:\n",
        "            processor_type.append(np.nan)\n",
        "            \n",
        "        if('RAM' in props):\n",
        "            ram.append(props['RAM'])\n",
        "        else:\n",
        "            ram.append(np.nan)\n",
        "            \n",
        "        if('Card màn hình' in props):\n",
        "            graphic_card.append(props['Card màn hình'])\n",
        "        else:\n",
        "            graphic_card.append(np.nan)\n",
        "            \n",
        "        if('Ổ cứng' in props):\n",
        "            hard_drive.append(props['Ổ cứng'])\n",
        "        else:\n",
        "            hard_drive.append(np.nan)\n",
        "            \n",
        "        if('Tình trạng bảo hành' in props):\n",
        "            warranty_status.append(props['Tình trạng bảo hành'])\n",
        "        else:\n",
        "            warranty_status.append(np.nan)\n",
        "        \n",
        "        if('Giao hàng tận nơi' in props):\n",
        "            delivery.append(props['Giao hàng tận nơi'])\n",
        "        else:\n",
        "            delivery.append(np.nan)\n",
        "    except Exception as e: # Có thể là do hết lượng request được phép, hoặc hết page, ...\n",
        "        print(f'Error: {e}')\n",
        "        \n",
        "temp_df = pd.DataFrame({\"Brand\": brand,\n",
        "                        \"Model\": model,\n",
        "                        \"Status\": status,\n",
        "                        \"Screen Size\": screen_size,\n",
        "                        \"Processor Type\": processor_type,\n",
        "                        \"RAM Size\": ram,\n",
        "                        \"Graphic Card\": graphic_card,\n",
        "                        \"Hard Drive\": hard_drive,\n",
        "                        \"Warranty Status\": warranty_status,\n",
        "                        \"Delivery\": delivery}) \n",
        "\n",
        "raw_data_with_no_price = raw_data_with_no_price.append(temp_df, ignore_index=True)\n",
        "raw_data_with_no_price.to_csv(\"Data1.csv\", index=False)\n",
        "raw_data_with_no_price"
      ],
      "execution_count": 68,
      "outputs": [
        {
          "output_type": "execute_result",
          "data": {
            "text/html": [
              "<div>\n",
              "<style scoped>\n",
              "    .dataframe tbody tr th:only-of-type {\n",
              "        vertical-align: middle;\n",
              "    }\n",
              "\n",
              "    .dataframe tbody tr th {\n",
              "        vertical-align: top;\n",
              "    }\n",
              "\n",
              "    .dataframe thead th {\n",
              "        text-align: right;\n",
              "    }\n",
              "</style>\n",
              "<table border=\"1\" class=\"dataframe\">\n",
              "  <thead>\n",
              "    <tr style=\"text-align: right;\">\n",
              "      <th></th>\n",
              "      <th>Brand</th>\n",
              "      <th>Model</th>\n",
              "      <th>Status</th>\n",
              "      <th>Screen Size</th>\n",
              "      <th>Processor Type</th>\n",
              "      <th>RAM Size</th>\n",
              "      <th>Graphic Card</th>\n",
              "      <th>Hard Drive</th>\n",
              "      <th>Warranty Status</th>\n",
              "      <th>Delivery</th>\n",
              "    </tr>\n",
              "  </thead>\n",
              "  <tbody>\n",
              "    <tr>\n",
              "      <th>0</th>\n",
              "      <td>Dell</td>\n",
              "      <td>Latitude</td>\n",
              "      <td>Đã sử dụng (chưa sửa chữa)</td>\n",
              "      <td>15 - 16.9 inch</td>\n",
              "      <td>Intel Core i5</td>\n",
              "      <td>8 GB</td>\n",
              "      <td>NVIDIA</td>\n",
              "      <td>256 GB</td>\n",
              "      <td>NaN</td>\n",
              "      <td>NaN</td>\n",
              "    </tr>\n",
              "    <tr>\n",
              "      <th>1</th>\n",
              "      <td>Hãng Khác</td>\n",
              "      <td>Dòng Khác</td>\n",
              "      <td>Đã sử dụng (chưa sửa chữa)</td>\n",
              "      <td>13 - 14.9 inch</td>\n",
              "      <td>Intel Core i7</td>\n",
              "      <td>8 GB</td>\n",
              "      <td>Onboard</td>\n",
              "      <td>128 GB</td>\n",
              "      <td>NaN</td>\n",
              "      <td>NaN</td>\n",
              "    </tr>\n",
              "    <tr>\n",
              "      <th>2</th>\n",
              "      <td>Dell</td>\n",
              "      <td>Latitude</td>\n",
              "      <td>Đã sử dụng (chưa sửa chữa)</td>\n",
              "      <td>13 - 14.9 inch</td>\n",
              "      <td>Intel Core i5</td>\n",
              "      <td>4 GB</td>\n",
              "      <td>Onboard</td>\n",
              "      <td>128 GB</td>\n",
              "      <td>NaN</td>\n",
              "      <td>NaN</td>\n",
              "    </tr>\n",
              "    <tr>\n",
              "      <th>3</th>\n",
              "      <td>Lenovo</td>\n",
              "      <td>ThinkPad</td>\n",
              "      <td>Đã sử dụng (chưa sửa chữa)</td>\n",
              "      <td>11 - 12.9 inch</td>\n",
              "      <td>Intel Core i5</td>\n",
              "      <td>4 GB</td>\n",
              "      <td>Onboard</td>\n",
              "      <td>128 GB</td>\n",
              "      <td>NaN</td>\n",
              "      <td>Tự giao hoặc đặt dịch vụ giao hàng</td>\n",
              "    </tr>\n",
              "    <tr>\n",
              "      <th>4</th>\n",
              "      <td>Lenovo</td>\n",
              "      <td>ThinkPad</td>\n",
              "      <td>Đã sử dụng (chưa sửa chữa)</td>\n",
              "      <td>11 - 12.9 inch</td>\n",
              "      <td>Intel Core i5</td>\n",
              "      <td>4 GB</td>\n",
              "      <td>Onboard</td>\n",
              "      <td>128 GB</td>\n",
              "      <td>NaN</td>\n",
              "      <td>Tự giao hoặc đặt dịch vụ giao hàng</td>\n",
              "    </tr>\n",
              "    <tr>\n",
              "      <th>...</th>\n",
              "      <td>...</td>\n",
              "      <td>...</td>\n",
              "      <td>...</td>\n",
              "      <td>...</td>\n",
              "      <td>...</td>\n",
              "      <td>...</td>\n",
              "      <td>...</td>\n",
              "      <td>...</td>\n",
              "      <td>...</td>\n",
              "      <td>...</td>\n",
              "    </tr>\n",
              "    <tr>\n",
              "      <th>85</th>\n",
              "      <td>Apple</td>\n",
              "      <td>Macbook Pro</td>\n",
              "      <td>Đã sử dụng (chưa sửa chữa)</td>\n",
              "      <td>15 - 16.9 inch</td>\n",
              "      <td>Intel Core i7</td>\n",
              "      <td>16 GB</td>\n",
              "      <td>Khác</td>\n",
              "      <td>256 GB</td>\n",
              "      <td>Còn bảo hành</td>\n",
              "      <td>Không giao hàng</td>\n",
              "    </tr>\n",
              "    <tr>\n",
              "      <th>86</th>\n",
              "      <td>Dell</td>\n",
              "      <td>Latitude</td>\n",
              "      <td>Đã sử dụng (chưa sửa chữa)</td>\n",
              "      <td>13 - 14.9 inch</td>\n",
              "      <td>Intel Core i5</td>\n",
              "      <td>4 GB</td>\n",
              "      <td>Khác</td>\n",
              "      <td>128 GB</td>\n",
              "      <td>Còn bảo hành</td>\n",
              "      <td>Không giao hàng</td>\n",
              "    </tr>\n",
              "    <tr>\n",
              "      <th>87</th>\n",
              "      <td>Apple</td>\n",
              "      <td>Macbook Air</td>\n",
              "      <td>Đã sử dụng (chưa sửa chữa)</td>\n",
              "      <td>13 - 14.9 inch</td>\n",
              "      <td>Intel Core i5</td>\n",
              "      <td>4 GB</td>\n",
              "      <td>Khác</td>\n",
              "      <td>128 GB</td>\n",
              "      <td>Còn bảo hành</td>\n",
              "      <td>Không giao hàng</td>\n",
              "    </tr>\n",
              "    <tr>\n",
              "      <th>88</th>\n",
              "      <td>Apple</td>\n",
              "      <td>Macbook Pro</td>\n",
              "      <td>Đã sử dụng (chưa sửa chữa)</td>\n",
              "      <td>15 - 16.9 inch</td>\n",
              "      <td>Intel Core i7</td>\n",
              "      <td>16 GB</td>\n",
              "      <td>NVIDIA</td>\n",
              "      <td>512 GB</td>\n",
              "      <td>Còn bảo hành</td>\n",
              "      <td>Tự giao hoặc đặt dịch vụ giao hàng</td>\n",
              "    </tr>\n",
              "    <tr>\n",
              "      <th>89</th>\n",
              "      <td>Asus</td>\n",
              "      <td>U series</td>\n",
              "      <td>Đã sử dụng (chưa sửa chữa)</td>\n",
              "      <td>15 - 16.9 inch</td>\n",
              "      <td>Intel Core i7</td>\n",
              "      <td>16 GB</td>\n",
              "      <td>NVIDIA</td>\n",
              "      <td>512 GB</td>\n",
              "      <td>Còn bảo hành</td>\n",
              "      <td>Không giao hàng</td>\n",
              "    </tr>\n",
              "  </tbody>\n",
              "</table>\n",
              "<p>90 rows × 10 columns</p>\n",
              "</div>"
            ],
            "text/plain": [
              "        Brand        Model  ... Warranty Status                            Delivery\n",
              "0        Dell     Latitude  ...             NaN                                 NaN\n",
              "1   Hãng Khác    Dòng Khác  ...             NaN                                 NaN\n",
              "2        Dell     Latitude  ...             NaN                                 NaN\n",
              "3      Lenovo     ThinkPad  ...             NaN  Tự giao hoặc đặt dịch vụ giao hàng\n",
              "4      Lenovo     ThinkPad  ...             NaN  Tự giao hoặc đặt dịch vụ giao hàng\n",
              "..        ...          ...  ...             ...                                 ...\n",
              "85      Apple  Macbook Pro  ...    Còn bảo hành                     Không giao hàng\n",
              "86       Dell     Latitude  ...    Còn bảo hành                     Không giao hàng\n",
              "87      Apple  Macbook Air  ...    Còn bảo hành                     Không giao hàng\n",
              "88      Apple  Macbook Pro  ...    Còn bảo hành  Tự giao hoặc đặt dịch vụ giao hàng\n",
              "89       Asus     U series  ...    Còn bảo hành                     Không giao hàng\n",
              "\n",
              "[90 rows x 10 columns]"
            ]
          },
          "metadata": {
            "tags": []
          },
          "execution_count": 68
        }
      ]
    },
    {
      "cell_type": "code",
      "metadata": {
        "id": "MHJAxV4xVn_h"
      },
      "source": [
        "price = []\n",
        "\n",
        "P = pd.DataFrame(columns = [\"Price\"])\n",
        "\n",
        "for per_link in list_link:\n",
        "    try:\n",
        "        req=requests.get(per_link)\n",
        "        soup=BeautifulSoup(req.text,'html.parser')\n",
        "        p=soup.find(\"meta\", {'itemprop':\"price\"})\n",
        "        if p:\n",
        "            price.append(p.attrs['content'])\n",
        "        else:\n",
        "            price.append(np.nan)\n",
        "        \n",
        "    except Exception as e: # Có thể là do hết lượng request được phép, hoặc hết page, ...\n",
        "        print(f'Error: {e}')\n",
        "        \n",
        "temp_df = pd.DataFrame({\"Price\": price}) \n",
        "\n",
        "P = P.append(temp_df, ignore_index=True)\n",
        "P.to_csv(\"PriceData.csv\", index=False)\n",
        "P"
      ],
      "execution_count": null,
      "outputs": []
    },
    {
      "cell_type": "code",
      "metadata": {
        "id": "jT2oXD4IVn_h"
      },
      "source": [
        "laptop = pd.concat([raw_data_with_no_price, P], axis = 1)\n",
        "laptop.to_csv('Laptop Data.csv', index = False, header = False)"
      ],
      "execution_count": null,
      "outputs": []
    },
    {
      "cell_type": "code",
      "metadata": {
        "id": "26f9yXKdVn_i"
      },
      "source": [
        "laptop"
      ],
      "execution_count": null,
      "outputs": []
    },
    {
      "cell_type": "code",
      "metadata": {
        "scrolled": true,
        "id": "ia9Y-WYwVn_i"
      },
      "source": [
        "laptop.sample(20)"
      ],
      "execution_count": null,
      "outputs": []
    },
    {
      "cell_type": "markdown",
      "metadata": {
        "id": "3mUxGb9mVn_i"
      },
      "source": [
        "# TIỀN XỬ LÝ DỮ LIỆU"
      ]
    },
    {
      "cell_type": "code",
      "metadata": {
        "id": "XsHcCL8DVn_j"
      },
      "source": [
        "f = open(\"Laptop Data.csv\", 'r', encoding='utf-8')\n",
        "laptops = f.readlines()\n",
        "brand_s = []\n",
        "model_s = []\n",
        "status_s = []\n",
        "screen_size_s = []\n",
        "processor_s = []\n",
        "ram_s = []\n",
        "graphic_s = []\n",
        "hard_drive_s = []\n",
        "warranty_s = []\n",
        "price_s = []\n",
        "alpha_s = []\n",
        "\n",
        "for lt in laptops:\n",
        "  lt_specs = lt.replace('\\n', '').split(',')\n",
        "  \n",
        "  # status\n",
        "  status = lt_specs[2]\n",
        "  if ('Mới' in status):\n",
        "    status = 18  # mean price of new laptops\n",
        "  elif ('chưa sửa chữa' in status):\n",
        "    status = 11\n",
        "  else:\n",
        "    status = 11\n",
        "  status_s.append(status)\n",
        "\n",
        "  # screen size\n",
        "  screen_size = lt_specs[3]\n",
        "  # screen_size_s.append(screen_size)\n",
        "  if ('12.9' in screen_size):\n",
        "    screen_size_s.append(12)\n",
        "  elif ('14.9' in screen_size):\n",
        "    screen_size_s.append(14)\n",
        "  elif ('16.9' in screen_size):\n",
        "    screen_size_s.append(16)\n",
        "  elif ('10.9' in screen_size):\n",
        "    screen_size_s.append(10)\n",
        "  elif ('18.9' in screen_size):\n",
        "    screen_size_s.append(18)\n",
        "  elif ('20.9' in screen_size):\n",
        "    screen_size_s.append(20)\n",
        "  elif ('>= 21' in screen_size):\n",
        "    screen_size_s.append(22)\n",
        "  elif ('< 9' in screen_size):\n",
        "    screen_size_s.append(8)\n",
        "\n",
        "  # processor type\n",
        "  processor = lt_specs[4]\n",
        "  processor_s.append(processor)\n",
        "  \n",
        "  # ram\n",
        "  ram = lt_specs[5]\n",
        "  if ('> 32' in ram):\n",
        "      ram = '40'\n",
        "  if ('< 1' in ram):\n",
        "    ram = '0'\n",
        "  if (ram):\n",
        "    ram = int(ram.split(' ')[0])\n",
        "  else:\n",
        "    ram = np.nan\n",
        "  ram_s.append(ram)\n",
        "\n",
        "  # graphic card\n",
        "  graphic = lt_specs[6]\n",
        "  if (graphic):\n",
        "    if ('Onboard' in graphic or 'Khác' in graphic):\n",
        "      graphic = 2\n",
        "    else:\n",
        "      graphic = 5\n",
        "  else:\n",
        "    graphic = 1\n",
        "  graphic_s.append(graphic)\n",
        "\n",
        "  # hard drive\n",
        "  hard_drive = lt_specs[7]\n",
        "  if ('> 1 TB' in hard_drive):\n",
        "    hard_drive = '2048'\n",
        "  elif ('TB' in hard_drive):\n",
        "    hard_drive = '1024'\n",
        "  if ('< 128' in hard_drive):\n",
        "    hard_drive = '64'\n",
        "  hard_drive = int(hard_drive.split(' ')[0])\n",
        "  hard_drive_s.append(hard_drive)\n",
        "\n",
        "  # warranty\n",
        "  warranty = lt_specs[8]\n",
        "  if ('Còn bảo hành' in warranty):\n",
        "    warranty = 5\n",
        "  else:\n",
        "    warranty = 1\n",
        "  warranty_s.append(warranty)\n",
        "\n",
        "  # brand\n",
        "  brand = lt_specs[0]\n",
        "  brand_s.append(brand)\n",
        "\n",
        "  # Model\n",
        "  model = lt_specs[1]\n",
        "  model_s.append(model)\n",
        "\n",
        "  # price\n",
        "  price = lt_specs[10]\n",
        "  if (price):\n",
        "    price = int(price)\n",
        "  else:\n",
        "    price = np.nan\n",
        "  price_s.append(price)\n",
        "\n",
        "  # test alpha\n",
        "  alpha_s.append(status * warranty * graphic)\n",
        "\n",
        "## save to data frame\n",
        "d = {'Brand': brand_s, \n",
        "     'Model': model_s, \n",
        "     'Price': price_s, \n",
        "     'RAM': ram_s, \n",
        "     'Memory': hard_drive_s, \n",
        "     'Screen_size': screen_size_s, \n",
        "     'Status': status_s, \n",
        "     'Warranty': warranty_s, \n",
        "     'Graphic_card': graphic_s,\n",
        "     'Processor Type': processor_s,\n",
        "     \"Alpha\": alpha_s}\n",
        "    \n",
        "laptop_df = pd.DataFrame(data=d)\n",
        "laptop_df.dropna(inplace=True)\n",
        "laptop_df = laptop_df[laptop_df['Price'] >= 5000000.0]\n",
        "laptop_df.to_csv('My Laptop Data.csv', index = False, header = True)"
      ],
      "execution_count": 8,
      "outputs": []
    },
    {
      "cell_type": "code",
      "metadata": {
        "id": "pE7nwwWMVn_j"
      },
      "source": [
        "laptop_df = pd.read_csv('My Laptop Data.csv')"
      ],
      "execution_count": 10,
      "outputs": []
    },
    {
      "cell_type": "code",
      "metadata": {
        "scrolled": true,
        "id": "87nHg8csVn_k"
      },
      "source": [
        "laptop_df"
      ],
      "execution_count": null,
      "outputs": []
    },
    {
      "cell_type": "code",
      "metadata": {
        "id": "3kDxgiAFVn_k"
      },
      "source": [
        "laptop_df.info()"
      ],
      "execution_count": null,
      "outputs": []
    },
    {
      "cell_type": "code",
      "metadata": {
        "id": "iBIwX9ziVn_k"
      },
      "source": [
        "laptop_df.describe()"
      ],
      "execution_count": null,
      "outputs": []
    },
    {
      "cell_type": "code",
      "metadata": {
        "id": "q-oPunKTVn_k"
      },
      "source": [
        "laptop_df.dtypes"
      ],
      "execution_count": null,
      "outputs": []
    },
    {
      "cell_type": "markdown",
      "metadata": {
        "id": "CxxxJyGHVn_k"
      },
      "source": [
        "# TRỰC QUAN HÓA DỮ LIỆU"
      ]
    },
    {
      "cell_type": "code",
      "metadata": {
        "colab": {
          "base_uri": "https://localhost:8080/",
          "height": 551
        },
        "id": "uHBb2TfTVn_m",
        "outputId": "1b8cadb4-6ffd-4f3b-d96c-f2b7072ac744"
      },
      "source": [
        "def scatter(x,fig):\n",
        "    plt.subplot(5,2,fig)\n",
        "    plt.scatter(laptop_df[x],laptop_df['Price'])\n",
        "    plt.title(x +' vs Price')\n",
        "    plt.ylabel('Price')\n",
        "    plt.xlabel(x)\n",
        "\n",
        "\n",
        "plt.figure(figsize=(10,12))\n",
        "\n",
        "scatter('RAM', 1)\n",
        "scatter('Memory', 2)\n",
        "scatter('Screen_size', 3)\n",
        "scatter('Status', 4)\n",
        "scatter('Warranty', 5)\n",
        "scatter('Graphic_card', 6)\n",
        "\n",
        "plt.tight_layout()"
      ],
      "execution_count": 15,
      "outputs": [
        {
          "output_type": "display_data",
          "data": {
            "image/png": "[encoded data removed]",
            "text/plain": [
              "<Figure size 720x864 with 6 Axes>"
            ]
          },
          "metadata": {
            "tags": [],
            "needs_background": "light"
          }
        }
      ]
    },
    {
      "cell_type": "code",
      "metadata": {
        "colab": {
          "base_uri": "https://localhost:8080/",
          "height": 521
        },
        "id": "rFvY7uZJVn_n",
        "outputId": "f854ac75-74ca-4259-d545-655e84bedb85"
      },
      "source": [
        "# here we set the figure size to 15x8\n",
        "plt.figure(figsize = (15, 8))\n",
        "# plot two values price per monitorSize\n",
        "plt.scatter(laptop_df.Price, laptop_df.Screen_size)\n",
        "plt.xlabel(\"Price\", fontsize = 14)\n",
        "plt.ylabel(\"Screen size\", fontsize = 14)\n",
        "plt.title(\"Scatter plot of PRICE and SCREEN SIZE\", fontsize = 18)\n",
        "plt.show()"
      ],
      "execution_count": 16,
      "outputs": [
        {
          "output_type": "display_data",
          "data": {
            "image/png": "[encoded data removed]",
            "text/plain": [
              "<Figure size 1080x576 with 1 Axes>"
            ]
          },
          "metadata": {
            "tags": [],
            "needs_background": "light"
          }
        }
      ]
    },
    {
      "cell_type": "markdown",
      "metadata": {
        "id": "xgS-B61sVn_n"
      },
      "source": [
        "- **Nhận xét**: \n",
        "    - Từ hình trên thấy là, kích thước màn hình tăng thì giá máy tính sẽ tăng. Trung bình, với máy tính có màn hình khoảng 14 -16 inch thì có giá khoảng từ 10 đến 20 triệu.\n",
        "    - Tuy nhiên, giá máy tính còn phụ thuộc vào nhiều cấu hình khác nhau, ví dụ như nhãn hiệu sản phẩm."
      ]
    },
    {
      "cell_type": "code",
      "metadata": {
        "id": "DDbWtb8hVn_n"
      },
      "source": [
        "# Tách một DataFrame đối với những laptop brandnew\n",
        "laptop_brand_new_df = laptop_df[laptop_df['Status'] == 10]\n",
        "\n",
        "# Tách một DataFrame đối với những laptop second-hand\n",
        "laptop_second_hand_df = laptop_df[laptop_df['Status'] == 5]"
      ],
      "execution_count": null,
      "outputs": []
    },
    {
      "cell_type": "code",
      "metadata": {
        "id": "P3Tu_F46Vn_n"
      },
      "source": [
        "f, ax = plt.subplots(figsize = (15, 12))\n",
        "sns.stripplot(data = laptop_brand_new_df, x = 'Price', y = 'Brand', jitter=.25, palette=sns.husl_palette(14, l=0.5, s=.95))\n",
        "plt.show();"
      ],
      "execution_count": null,
      "outputs": []
    },
    {
      "cell_type": "markdown",
      "metadata": {
        "id": "23tT-VcVVn_n"
      },
      "source": [
        "- **Nhận xét**:\n",
        "    - Các nhãn hiệu phổ biến như Dell, HP, Toshiba, Acer, Asus, Lenovo, Sony, SamSung có mức giá trung bình và phổ biến, nhiều phân khúc giá <font color=red>đối với laptop còn mới</font> cho khoảng từ 5 - 25 triệu. \n",
        "    - Ngoài ra giữa chúng có một số chênh lệch nhỏ về giá khoảng một vài triệu đồng.\n",
        "        - Các nhãn hiệu Apple, MSI, Lenovo có mức giá cao, khoảng từ 20 triệu trở lên, có nhiều lựa chọn về giá cho các sản phẩm này với mức tiền từ 20-50 triệu\n",
        "    - LG là nhãn hiệu không phổ biến cho dòng laptop nên có ít sự lựa chọn, nhưng LG cũng có giá khá cao, khoảng 20 triệu. "
      ]
    },
    {
      "cell_type": "code",
      "metadata": {
        "id": "gh9YPB1QVn_o"
      },
      "source": [
        "f, ax = plt.subplots(figsize = (15, 12))\n",
        "sns.stripplot(data = laptop_second_hand_df, x = 'Price', y = 'Brand', jitter=.25, palette=sns.husl_palette(14, l=0.5, s=.95))\n",
        "plt.show();"
      ],
      "execution_count": null,
      "outputs": []
    },
    {
      "cell_type": "markdown",
      "metadata": {
        "id": "9YZjRMNvVn_o"
      },
      "source": [
        "- **Nhận xét:**\n",
        "    - Tuy là laptop đã xài rồi nhưng giá trị của hãng Apple luôn cao hơn so với những hãng khác.\n",
        "    - Tiếp đến là Dell, Asus, Lenovo\n",
        "    - Không có máy tính hãng MSI nào được bán lại\n",
        "    - Tuy nhiên, vẫn có nhiều máy bán với giá gần với brand new, có thể là new 80% trở lên"
      ]
    },
    {
      "cell_type": "code",
      "metadata": {
        "id": "YU7PkcjvVn_o"
      },
      "source": [
        "# here we set the figure size to 15x8\n",
        "plt.figure(figsize=(15, 8))\n",
        "# plot two values price per ram size\n",
        "plt.scatter(laptop_brand_new_df.Price, laptop_brand_new_df.RAM, c = 'green', marker = 'x')\n",
        "plt.xlabel(\"Price\", fontsize = 14)\n",
        "plt.ylabel(\"RAM\", fontsize = 14)\n",
        "plt.title(\"Scatter plot of PRICE and RAM on brand new laptop\", fontsize = 18)\n",
        "plt.show();"
      ],
      "execution_count": null,
      "outputs": []
    },
    {
      "cell_type": "markdown",
      "metadata": {
        "id": "zc7S-uXnVn_o"
      },
      "source": [
        "- **Nhận xét:**\n",
        "    - Dễ nhận thấy là với kích thước RAM càng lớn thì giá máy tính càng cao. Các kích thước RAM phổ biến là 2GB, 4GB và 8GB.\n",
        "    - Với máy tính có RAM 2GB thì mức giá khoảng từ 3 triệu tới gần 20 triệu.\n",
        "    - Với máy tính có RAM 4GB thì có nhiều phân đoạn giá hơn, và phụ thuộc các tiêu chí phần cứng khác thì máy tính RAM 4GB có giá khoảng từ 3 triệu tới gần 50 triệu.\n",
        "    - Giống như máy tính RAM 4GB, máy tính RAM 8GB có nhiều phân đoạn giá từ 5 triệu tới 50 triệu.\n",
        "    - Máy tính RAM 6GB cũng khá phổ biến (tuy không bằng máy tính RAM 2GB, 4GB hay 8GB, mức giá cho máy tính như thế này khoảng từ 10 đến gần 30 triệu.\n",
        "    - Máy tính RAM lớn từ 12GB đến 16 GB ít phổ biến hơn và chúng cũng có giá khá cao từ hơn 15 triệu tới gần 50 triệu.\n",
        "    - Máy tính RAM lớn 32GB trải dài mức giá từ 10 triệu trở lên.\n",
        "    - Tuy nhiên, RAM trên 60GB giá cao nhất của nó là 40 triệu."
      ]
    },
    {
      "cell_type": "code",
      "metadata": {
        "id": "nggKMAIRVn_o"
      },
      "source": [
        "# here we set the figure size to 15x8\n",
        "plt.figure(figsize=(15, 8))\n",
        "# plot two values price per ram size\n",
        "plt.scatter(laptop_second_hand_df.Price, laptop_second_hand_df.RAM, c = 'purple', marker = '+')\n",
        "plt.xlabel(\"Price\", fontsize = 14)\n",
        "plt.ylabel(\"RAM\", fontsize = 14)\n",
        "plt.title(\"SCATTER PLOT OF PRICE & RAM ON SECOND HAND LAPTOP\", fontsize = 18)\n",
        "plt.show();"
      ],
      "execution_count": null,
      "outputs": []
    },
    {
      "cell_type": "markdown",
      "metadata": {
        "id": "fV0GujJgVn_o"
      },
      "source": [
        "- **Nhận xét:**\n",
        "    - Dễ nhận thấy là với kích thước RAM càng lớn thì giá máy tính càng cao. Các kích thước RAM phổ biến là 2GB, 4GB và 8GB.\n",
        "    - Với máy tính có RAM 2GB thì mức giá khoảng từ 3 triệu tới 23 triệu.\n",
        "    - Với máy tính có RAM 4GB thì có nhiều phân đoạn giá hơn, và phụ thuộc các tiêu chí phần cứng khác thì máy tính RAM 4GB có giá khoảng từ 3 triệu tới gần 25 triệu.\n",
        "    - Giống như máy tính RAM 4GB, máy tính RAM 8GB có nhiều phân đoạn giá từ 3 triệu tới 30 triệu.\n",
        "    - Máy tính RAM 6GB cũng khá phổ biến (tuy không bằng máy tính RAM 2GB, 4GB hay 8GB), mức giá cho máy tính như thế này khoảng từ 30 đến gần 10 triệu.\n",
        "    - Máy tính RAM lớn từ 12GB đến 16 GB ít phổ biến hơn và chúng c;./ũng có giá khá cao từ hơn 15 triệu tới hơn 50 triệu.\n",
        "    - Máy tính RAM lớn 32GB giá trải đều tới 75 triệu.\n",
        "    - Máy tính RAM trên 60GB giá từ 5 triệu đến 50 triệu."
      ]
    },
    {
      "cell_type": "code",
      "metadata": {
        "id": "kSABxSVnVn_p"
      },
      "source": [
        "laptop_second_hand_df"
      ],
      "execution_count": null,
      "outputs": []
    },
    {
      "cell_type": "code",
      "metadata": {
        "id": "_GXbSM4nVn_p"
      },
      "source": [
        "print('Số lượng các dòng máy tính trong dữ liệu:', len(laptop_df.Brand.unique()))\n",
        "laptop_df['Brand'].value_counts()"
      ],
      "execution_count": null,
      "outputs": []
    },
    {
      "cell_type": "code",
      "metadata": {
        "id": "KZtG9thFVn_p"
      },
      "source": [
        "plt.figure(figsize=(15,8))\n",
        "laptop_df.Brand.value_counts().nlargest(10).plot(kind='barh', color = ['blue', 'g', 'r', 'c', 'm', 'y', 'grey', 'black', 'brown', 'pink'], alpha = 0.65)\n",
        "plt.xlabel('Số lượng máy tính', fontsize = 14)\n",
        "plt.ylabel('Dòng máy', fontsize = 14)\n",
        "plt.title(\"TOP 10 MULTIPLE DISTRIBUTION LAPTOP\",fontsize = 18)\n",
        "plt.show();"
      ],
      "execution_count": null,
      "outputs": []
    },
    {
      "cell_type": "markdown",
      "metadata": {
        "id": "yjDQJG2cVn_p"
      },
      "source": [
        "- **Nhận xét:**\n",
        "    - Nếu dựa trên Price về cấu hình máy, Dell luôn được người dùng ưa chuộng (vì đa số người đăng tin trên Chợ tốt tầm cỡ 20-40 tuổi) và số lượng người bán lại Dell gấp đôi so với những hãng khác (2.5k/6k data = 1/3 data)\n",
        "    - Sẽ không bất ngờ khi người sử dụng Apple đứng thứ hai vì cấu hình máy cũng như hệ điều hành và mức độ phổ biến của nó trên toàn cầu."
      ]
    },
    {
      "cell_type": "code",
      "metadata": {
        "id": "O1Qnf5InVn_p"
      },
      "source": [
        "f, ax = plt.subplots(figsize=(17, 10))\n",
        "sns.stripplot(data = laptop_df, x='Price', y='Processor Type', jitter=.5)\n",
        "plt.show();"
      ],
      "execution_count": null,
      "outputs": []
    },
    {
      "cell_type": "markdown",
      "metadata": {
        "id": "VVAIzpseVn_p"
      },
      "source": [
        "- **Nhận xét:**\n",
        "    - Hình trên thể hiện phân phối dữ liệu giữa 17 hãng sản xuất chip với thị phần laptop. Chip Intel được sử dụng trên hầu hết laptop với mức giá trung bình từ 5 triệu tới 25 triệu. Chip AMD rất ít được sử dụng trên laptop.\n",
        "    - Một số hãng khác cũng rất ít được sử dụng và mức độ phân phối không nhiều."
      ]
    },
    {
      "cell_type": "code",
      "metadata": {
        "id": "aWkaaudiVn_q"
      },
      "source": [
        "f, ax = plt.subplots(figsize=(15, 40))\n",
        "sns.violinplot(data = laptop_df, x='Price', y='Processor Type')\n",
        "plt.show();"
      ],
      "execution_count": null,
      "outputs": []
    },
    {
      "cell_type": "markdown",
      "metadata": {
        "id": "ufyLzR99Vn_q"
      },
      "source": [
        "- **Nhận xét:**\n",
        "    - Hình này ngoài việc thể hiện phân phối dữ liệu, chúng còn cho thấy mức giá tối thiểu, tối đa, hay giá trị trung bình cho từng loại chip"
      ]
    },
    {
      "cell_type": "markdown",
      "metadata": {
        "id": "_JH3CBUPVn_q"
      },
      "source": [
        "Em sẽ vẽ một biểu đồ heatmap để xem xét mức độ tương quan của các features với nhau. Hoặc có thể sử dụng code dưới đây để kiểm tra mức độ tương quan của các features với nhau."
      ]
    },
    {
      "cell_type": "code",
      "metadata": {
        "scrolled": true,
        "id": "h3xQX0KvVn_q"
      },
      "source": [
        "# Cách 1 dùng code để tìm ra mức độ tương quan các giá trị \n",
        "laptop_df_int = laptop_df.select_dtypes(include = ['int64', 'float64'])\n",
        "\n",
        "# corr(): Được sử dụng để tìm mối tương quan theo cặp của tất cả các cột trong khung dữ liệu. \n",
        "laptop_df_int = laptop_df_int.corr()\n",
        "laptop_df_int"
      ],
      "execution_count": null,
      "outputs": []
    },
    {
      "cell_type": "code",
      "metadata": {
        "id": "m-n0_c1ZVn_q"
      },
      "source": [
        "# Cách 2 dùng heatmap để tìm ra mức độ tương quan các giá trị\n",
        "plt.figure(figsize=(12, 10))\n",
        "sns.heatmap(laptop_df_int, annot = True, fmt = \"n\")"
      ],
      "execution_count": null,
      "outputs": []
    },
    {
      "cell_type": "markdown",
      "metadata": {
        "id": "xWI_GxotVn_q"
      },
      "source": [
        "# MÔ HÌNH"
      ]
    },
    {
      "cell_type": "markdown",
      "metadata": {
        "id": "l38EH060EdZ6"
      },
      "source": [
        "### Linear Regression"
      ]
    },
    {
      "cell_type": "code",
      "metadata": {
        "colab": {
          "base_uri": "https://localhost:8080/"
        },
        "id": "YF_IJJwJVn_r",
        "outputId": "a138778e-2424-4b37-a9a7-5efc053e79cb"
      },
      "source": [
        "from sklearn.linear_model import LinearRegression\n",
        "# Khởi tạo mô hình\n",
        "model1 = LinearRegression()\n",
        "model_all = LinearRegression()  \n",
        "\n",
        "# Chuẩn bị dữ liệu\n",
        "train_Xall = laptop_df[[\"RAM\", \"Memory\", \"Screen_size\", \"Alpha\", \"Status\"]]\n",
        "train_X1 = laptop_df[[\"Alpha\"]]\n",
        "train_y = laptop_df[\"Price\"]\n",
        "# \"Fit\" mô hình vào dữ liệu\n",
        "model1.fit(train_X1, train_y)\n",
        "model_all.fit(train_Xall, train_y)\n",
        "# Xem giá trị của các tham số của mô hình\n",
        "print(model1.coef_) # w_1\n",
        "print(model1.intercept_) # w_0"
      ],
      "execution_count": 49,
      "outputs": [
        {
          "output_type": "stream",
          "text": [
            "[22435.0163088]\n",
            "8088083.000232522\n"
          ],
          "name": "stdout"
        }
      ]
    },
    {
      "cell_type": "code",
      "metadata": {
        "colab": {
          "base_uri": "https://localhost:8080/",
          "height": 308
        },
        "id": "x0U_87doVn_r",
        "outputId": "4a56a149-ed4b-495b-fe98-40844ee8c949"
      },
      "source": [
        "# Trực quan hóa mô hình tìm được\n",
        "ax = laptop_df.plot.scatter(x=\"Alpha\", y=\"Price\")\n",
        "ax.set_xlabel(\"x_1 (RAM)\")\n",
        "ax.set_ylabel(\"y (Price)\")\n",
        "\n",
        "min_x = train_X1.values.min() - 0.5\n",
        "max_x = train_X1.values.max() + 0.5\n",
        "ax.set_xlim(min_x, max_x)\n",
        "ax.plot([min_x, max_x], model1.predict(np.array([[min_x], [max_x]])), color='g')"
      ],
      "execution_count": 50,
      "outputs": [
        {
          "output_type": "execute_result",
          "data": {
            "text/plain": [
              "[<matplotlib.lines.Line2D at 0x7f6e597635f8>]"
            ]
          },
          "metadata": {
            "tags": []
          },
          "execution_count": 50
        },
        {
          "output_type": "display_data",
          "data": {
            "image/png": "[encoded data removed]",
            "text/plain": [
              "<Figure size 432x288 with 1 Axes>"
            ]
          },
          "metadata": {
            "tags": [],
            "needs_background": "light"
          }
        }
      ]
    },
    {
      "cell_type": "code",
      "metadata": {
        "colab": {
          "base_uri": "https://localhost:8080/"
        },
        "id": "4P8RTQu9cX6K",
        "outputId": "f277a1b0-0833-4c90-969f-ae8658dd43ef"
      },
      "source": [
        "# Tính độ đo r^2 trên tập huấn luyện\n",
        "def compute_mse(y, preds):\n",
        "    return ((y - preds) ** 2).mean()\n",
        "def compute_rr(y, preds, baseline_preds):\n",
        "    return 1 - compute_mse(y, preds) / compute_mse(y, baseline_preds)\n",
        "baseline_preds = train_y.mean()\n",
        "print(compute_rr(train_y, model1.predict(train_X1), baseline_preds))\n",
        "print(compute_rr(train_y, model_all.predict(train_Xall), baseline_preds))"
      ],
      "execution_count": 51,
      "outputs": [
        {
          "output_type": "stream",
          "text": [
            "0.05741760262977047\n",
            "0.2797953028490485\n"
          ],
          "name": "stdout"
        }
      ]
    },
    {
      "cell_type": "markdown",
      "metadata": {
        "id": "zs1LA9NMe3TF"
      },
      "source": [
        "### KNN Regression"
      ]
    },
    {
      "cell_type": "code",
      "metadata": {
        "id": "llcrRHbLVn_r"
      },
      "source": [
        "from sklearn.model_selection import train_test_split\n",
        "data = laptop_df\n",
        "X = data[[\"RAM\", \"Memory\", \"Screen_size\", \"Alpha\", \"Status\"]]\n",
        "Y = data.Price\n",
        "X = pd.get_dummies(data=X)\n",
        "X_train, X_test, Y_train, Y_test = train_test_split(X, Y, test_size = .20, random_state = 42)"
      ],
      "execution_count": 41,
      "outputs": []
    },
    {
      "cell_type": "code",
      "metadata": {
        "colab": {
          "base_uri": "https://localhost:8080/",
          "height": 1000
        },
        "id": "nGoTdTcnVn_r",
        "outputId": "211ea77f-fb80-4b91-b842-9474d32de9df"
      },
      "source": [
        "from sklearn import neighbors\n",
        "# the value of n_neighbors will be changed when we plot the histogram showing the lowest RMSE value\n",
        "knn = neighbors.KNeighborsRegressor(n_neighbors=6)\n",
        "knn.fit(X_train, Y_train)\n",
        "\n",
        "predicted = knn.predict(X_test)\n",
        "residual = Y_test - predicted\n",
        "\n",
        "fig = plt.figure(figsize=(30,30))\n",
        "ax1 = plt.subplot(211)\n",
        "sns.distplot(residual, color ='teal')\n",
        "plt.tick_params(axis='both', which='major', labelsize=20)\n",
        "plt.title('Residual counts',fontsize=35)\n",
        "plt.xlabel('Residual',fontsize=25)\n",
        "plt.ylabel('Count',fontsize=25)\n",
        "\n",
        "ax2 = plt.subplot(212)\n",
        "plt.scatter(predicted, residual, color ='teal')\n",
        "plt.tick_params(axis='both', which='major', labelsize=20)\n",
        "plt.xlabel('Predicted',fontsize=25)\n",
        "plt.ylabel('Residual',fontsize=25)\n",
        "plt.axhline(y=0)\n",
        "plt.title('Residual vs. Predicted',fontsize=35)\n",
        "\n",
        "plt.show()\n",
        "\n",
        "from sklearn.metrics import mean_squared_error\n",
        "rmse = np.sqrt(mean_squared_error(Y_test, predicted))\n",
        "print('RMSE:')\n",
        "print(rmse)"
      ],
      "execution_count": 42,
      "outputs": [
        {
          "output_type": "stream",
          "text": [
            "/usr/local/lib/python3.6/dist-packages/seaborn/distributions.py:2551: FutureWarning: `distplot` is a deprecated function and will be removed in a future version. Please adapt your code to use either `displot` (a figure-level function with similar flexibility) or `histplot` (an axes-level function for histograms).\n",
            "  warnings.warn(msg, FutureWarning)\n"
          ],
          "name": "stderr"
        },
        {
          "output_type": "display_data",
          "data": {
            "image/png": "[encoded data removed]",
            "text/plain": [
              "<Figure size 2160x2160 with 2 Axes>"
            ]
          },
          "metadata": {
            "tags": [],
            "needs_background": "light"
          }
        },
        {
          "output_type": "stream",
          "text": [
            "RMSE:\n",
            "6739489.895538338\n"
          ],
          "name": "stdout"
        }
      ]
    },
    {
      "cell_type": "code",
      "metadata": {
        "colab": {
          "base_uri": "https://localhost:8080/"
        },
        "id": "4V_9K2RzVn_r",
        "outputId": "2447c1dc-668a-426f-ddcb-83b891390549"
      },
      "source": [
        "from sklearn.metrics import r2_score\n",
        "print('Variance score: %.2f' % r2_score(Y_test, predicted))"
      ],
      "execution_count": 43,
      "outputs": [
        {
          "output_type": "stream",
          "text": [
            "Variance score: 0.30\n"
          ],
          "name": "stdout"
        }
      ]
    },
    {
      "cell_type": "markdown",
      "metadata": {
        "id": "239JdBH8eqRj"
      },
      "source": [
        "### Decision Tree"
      ]
    },
    {
      "cell_type": "code",
      "metadata": {
        "colab": {
          "base_uri": "https://localhost:8080/",
          "height": 1000
        },
        "id": "uXT6I80EVn_r",
        "outputId": "5eda69b8-7dcf-4d86-e514-b93157a9c159"
      },
      "source": [
        "from sklearn.tree import DecisionTreeRegressor\n",
        "\n",
        "dtr = DecisionTreeRegressor(max_features='auto')\n",
        "dtr.fit(X_train, Y_train)\n",
        "predicted = dtr.predict(X_test)\n",
        "residual = Y_test - predicted\n",
        "\n",
        "fig = plt.figure(figsize=(30,30))\n",
        "ax1 = plt.subplot(211)\n",
        "sns.distplot(residual, color ='orange')\n",
        "plt.tick_params(axis='both', which='major', labelsize=20)\n",
        "plt.title('Residual counts',fontsize=35)\n",
        "plt.xlabel('Residual',fontsize=25)\n",
        "plt.ylabel('Count',fontsize=25)\n",
        "\n",
        "ax2 = plt.subplot(212)\n",
        "plt.scatter(predicted, residual, color ='orange')\n",
        "plt.tick_params(axis='both', which='major', labelsize=20)\n",
        "plt.xlabel('Predicted',fontsize=25)\n",
        "plt.ylabel('Residual',fontsize=25)\n",
        "plt.axhline(y=0)\n",
        "plt.title('Residual vs. Predicted',fontsize=35)\n",
        "\n",
        "plt.show()\n",
        "\n",
        "from sklearn.metrics import mean_squared_error\n",
        "rmse = np.sqrt(mean_squared_error(Y_test, predicted))\n",
        "print('RMSE:')\n",
        "print(rmse)"
      ],
      "execution_count": 44,
      "outputs": [
        {
          "output_type": "stream",
          "text": [
            "/usr/local/lib/python3.6/dist-packages/seaborn/distributions.py:2551: FutureWarning: `distplot` is a deprecated function and will be removed in a future version. Please adapt your code to use either `displot` (a figure-level function with similar flexibility) or `histplot` (an axes-level function for histograms).\n",
            "  warnings.warn(msg, FutureWarning)\n"
          ],
          "name": "stderr"
        },
        {
          "output_type": "display_data",
          "data": {
            "image/png": "[encoded data removed]",
            "text/plain": [
              "<Figure size 2160x2160 with 2 Axes>"
            ]
          },
          "metadata": {
            "tags": [],
            "needs_background": "light"
          }
        },
        {
          "output_type": "stream",
          "text": [
            "RMSE:\n",
            "9267224.383369839\n"
          ],
          "name": "stdout"
        }
      ]
    },
    {
      "cell_type": "code",
      "metadata": {
        "colab": {
          "base_uri": "https://localhost:8080/"
        },
        "id": "-6yrkvyTVn_s",
        "outputId": "90c7bf53-a127-4c1b-836a-6b977bc377a9"
      },
      "source": [
        "print('Variance score: %.2f' % r2_score(Y_test, predicted))"
      ],
      "execution_count": 47,
      "outputs": [
        {
          "output_type": "stream",
          "text": [
            "Variance score: 0.30\n"
          ],
          "name": "stdout"
        }
      ]
    }
  ]
}